{
 "cells": [
  {
   "cell_type": "code",
   "execution_count": 5,
   "id": "6c98dd8e",
   "metadata": {},
   "outputs": [
    {
     "name": "stdout",
     "output_type": "stream",
     "text": [
      "Searching for: term1\n",
      "NO MATCH\n",
      "Searching for: term2\n",
      "NO MATCH\n",
      "Searching for: programme\n",
      "MATCH\n"
     ]
    }
   ],
   "source": [
    "import re\n",
    "\n",
    "#match pattern\n",
    "patterns = ['term1', 'term2', 'programme']\n",
    "\n",
    "text = \"There is a brief programme note projected unobtrusively and further information is available as text message if needed.\"\n",
    "\n",
    "for pattern in patterns:\n",
    "    print(\"Searching for: \"+pattern)\n",
    "    \n",
    "    if re.search(pattern,text):\n",
    "        print(\"MATCH\")\n",
    "    \n",
    "    else:\n",
    "        print(\"NO MATCH\")"
   ]
  },
  {
   "cell_type": "code",
   "execution_count": 5,
   "id": "a5cd583b",
   "metadata": {},
   "outputs": [
    {
     "name": "stdout",
     "output_type": "stream",
     "text": [
      "27\n",
      "0\n"
     ]
    }
   ],
   "source": [
    "import re\n",
    "# match pattern\n",
    "text = \"This is regular expression python practice!\"\n",
    "text1 = \"python\"\n",
    "\n",
    "match = re.search('python', text)\n",
    "match1 = re.search('python',text1)\n",
    "\n",
    "print(match.start())\n",
    "print(match1.start())\n"
   ]
  },
  {
   "cell_type": "code",
   "execution_count": 6,
   "id": "c4bc16e8",
   "metadata": {},
   "outputs": [
    {
     "name": "stdout",
     "output_type": "stream",
     "text": [
      "['user', 'gmail.com']\n"
     ]
    }
   ],
   "source": [
    "import re\n",
    "# split pattern\n",
    "split_term = '@'\n",
    "\n",
    "email = 'user@gmail.com'\n",
    "print(re.split(split_term,email))"
   ]
  },
  {
   "cell_type": "code",
   "execution_count": 10,
   "id": "a8758bd0",
   "metadata": {},
   "outputs": [
    {
     "name": "stdout",
     "output_type": "stream",
     "text": [
      "['test', 'test']\n"
     ]
    }
   ],
   "source": [
    "import re\n",
    "\n",
    "print(re.findall('test', 'this is testing code'' test'))"
   ]
  },
  {
   "cell_type": "code",
   "execution_count": 33,
   "id": "c97e2f22",
   "metadata": {},
   "outputs": [
    {
     "name": "stdout",
     "output_type": "stream",
     "text": [
      "Searching for pattern [A-Z]+\n",
      "['A', 'E', 'T', 'I', 'E', 'C', 'A', 'T', 'G', 'B']\n",
      "\n",
      "\n"
     ]
    }
   ],
   "source": [
    "import re\n",
    "\n",
    "def multi_re_find(patterns, phrase):\n",
    "    \n",
    "    for pat in patterns:\n",
    "        print(\"Searching for pattern {}\".format(pat))\n",
    "        print(re.findall(pat,phrase))\n",
    "        print('\\n')\n",
    "        \n",
    "test_phrase = \"Are you ready to take an English grammar quiz? The quiz is based on clause vs phrase. In the study of English grammar, clauses and phrases are terms used to define individual parts of a sentence. Clauses are groups of words consisting of a verb and a subject, whereas a phrase is a group of words that doesn't consist of them. Are you getting it yet? Take the quiz to find out. Give your best and try to score high marks. Best of luck!\"\n",
    "\n",
    "#test_patterns = ['sd*']\n",
    "#test_patterns = ['you{1,3}']\n",
    "#test_patterns = ['take[take]+']\n",
    "\n",
    "#test_patterns = ['[^!.?]+']\n",
    "\n",
    "#test_patterns = ['[a-z]+']\n",
    "\n",
    "test_patterns = ['[A-Z]+']\n",
    "\n",
    "test_patterns = [r'\\d+'] # Sequence of number\n",
    "test_patterns = [r'\\D+']\n",
    "test_patterns = [r'\\S+'] #NOn WhiteSpace\n",
    "test_patterns = [r'\\w+']  # alphanumeric\n",
    "test_patterns = [r'\\W+']  # Non alphanumeric\n",
    "\n",
    "\n",
    "multi_re_find(test_patterns,test_phrase)"
   ]
  }
 ],
 "metadata": {
  "kernelspec": {
   "display_name": "Python 3 (ipykernel)",
   "language": "python",
   "name": "python3"
  },
  "language_info": {
   "codemirror_mode": {
    "name": "ipython",
    "version": 3
   },
   "file_extension": ".py",
   "mimetype": "text/x-python",
   "name": "python",
   "nbconvert_exporter": "python",
   "pygments_lexer": "ipython3",
   "version": "3.9.13"
  }
 },
 "nbformat": 4,
 "nbformat_minor": 5
}
