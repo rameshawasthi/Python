{
 "cells": [
  {
   "cell_type": "markdown",
   "id": "767b4b7f",
   "metadata": {},
   "source": [
    "# Empty List\n",
    "\n",
    "mylist = [ ]\n",
    "\n",
    "* Represent list with square bracket.\n"
   ]
  },
  {
   "cell_type": "code",
   "execution_count": 1,
   "id": "84e762ba",
   "metadata": {},
   "outputs": [],
   "source": [
    "mylist = []"
   ]
  },
  {
   "cell_type": "code",
   "execution_count": 2,
   "id": "8eac18b4",
   "metadata": {},
   "outputs": [
    {
     "data": {
      "text/plain": [
       "[]"
      ]
     },
     "execution_count": 2,
     "metadata": {},
     "output_type": "execute_result"
    }
   ],
   "source": [
    "mylist"
   ]
  },
  {
   "cell_type": "code",
   "execution_count": 3,
   "id": "b4cc9c6e",
   "metadata": {},
   "outputs": [
    {
     "data": {
      "text/plain": [
       "list"
      ]
     },
     "execution_count": 3,
     "metadata": {},
     "output_type": "execute_result"
    }
   ],
   "source": [
    "#Check type\n",
    "type(mylist)"
   ]
  },
  {
   "cell_type": "code",
   "execution_count": 4,
   "id": "da66a82b",
   "metadata": {},
   "outputs": [
    {
     "data": {
      "text/plain": [
       "[0, 'python', [1, 2, 'py'], 0.5]"
      ]
     },
     "execution_count": 4,
     "metadata": {},
     "output_type": "execute_result"
    }
   ],
   "source": [
    "#list With different DataTypes\n",
    "mylist=[0,\"python\",[1,2,\"py\"],0.5]\n",
    "mylist"
   ]
  },
  {
   "cell_type": "code",
   "execution_count": 5,
   "id": "64fbaa23",
   "metadata": {},
   "outputs": [
    {
     "name": "stdout",
     "output_type": "stream",
     "text": [
      "<class 'int'>\n",
      "<class 'str'>\n",
      "<class 'float'>\n"
     ]
    }
   ],
   "source": [
    "# check data type \n",
    "number = 10 \n",
    "number1 = '10'\n",
    "number2 = 10.5\n",
    "\n",
    "print(type(number))\n",
    "print(type(number1))\n",
    "print(type(number2))"
   ]
  },
  {
   "cell_type": "code",
   "execution_count": 6,
   "id": "afdb96e7",
   "metadata": {},
   "outputs": [
    {
     "ename": "TypeError",
     "evalue": "'int' object is not iterable",
     "output_type": "error",
     "traceback": [
      "\u001b[1;31m---------------------------------------------------------------------------\u001b[0m",
      "\u001b[1;31mTypeError\u001b[0m                                 Traceback (most recent call last)",
      "Input \u001b[1;32mIn [6]\u001b[0m, in \u001b[0;36m<cell line: 2>\u001b[1;34m()\u001b[0m\n\u001b[0;32m      1\u001b[0m \u001b[38;5;66;03m#int  object is not iterable\u001b[39;00m\n\u001b[1;32m----> 2\u001b[0m \u001b[38;5;28;43mlist\u001b[39;49m\u001b[43m(\u001b[49m\u001b[38;5;241;43m10\u001b[39;49m\u001b[43m)\u001b[49m\n",
      "\u001b[1;31mTypeError\u001b[0m: 'int' object is not iterable"
     ]
    }
   ],
   "source": [
    "#int  object is not iterable\n",
    "list(10)"
   ]
  },
  {
   "cell_type": "code",
   "execution_count": 8,
   "id": "dd97f3f7",
   "metadata": {},
   "outputs": [
    {
     "data": {
      "text/plain": [
       "['P', 'y', 't', 'h', 'o', 'n']"
      ]
     },
     "execution_count": 8,
     "metadata": {},
     "output_type": "execute_result"
    }
   ],
   "source": [
    "list(\"Python\")"
   ]
  },
  {
   "cell_type": "code",
   "execution_count": 9,
   "id": "4d5de3be",
   "metadata": {},
   "outputs": [
    {
     "data": {
      "text/plain": [
       "[10, 20, 30]"
      ]
     },
     "execution_count": 9,
     "metadata": {},
     "output_type": "execute_result"
    }
   ],
   "source": [
    "list((10,20,30))"
   ]
  },
  {
   "cell_type": "code",
   "execution_count": 7,
   "id": "c62f55a6",
   "metadata": {},
   "outputs": [
    {
     "name": "stdout",
     "output_type": "stream",
     "text": [
      "Python List\n",
      "2\n",
      "[10, 'python', 0.5]\n",
      "[3, 'Python List']\n",
      "10.5\n",
      "[1, 2]\n",
      "[3, 'Python List', 10.5, 'Hello World', [10, 'python', 0.5]]\n",
      "[1, 2, 3, 'Python List', 10.5]\n"
     ]
    }
   ],
   "source": [
    "mylist=[1,2,3,\"Python List\",10.5,\"Hello World\",[10,\"python\",0.5]]\n",
    "\n",
    "#access list element\n",
    "print(mylist[3])\n",
    "print(mylist[1])\n",
    "print(mylist[-1])\n",
    "print(mylist[2:4])\n",
    "print(mylist[-3])\n",
    "print(mylist[:2])\n",
    "print(mylist[2:])\n",
    "print(mylist[:-2])"
   ]
  },
  {
   "cell_type": "code",
   "execution_count": 10,
   "id": "2443d876",
   "metadata": {},
   "outputs": [
    {
     "name": "stdout",
     "output_type": "stream",
     "text": [
      "['football', 'cricket', 'volleyball']\n",
      "['football', 'hockey', 'volleyball']\n",
      "['football', 'basketball', 'tennis']\n"
     ]
    }
   ],
   "source": [
    "#Modify the existing element\n",
    "sports=[\"football\",\"cricket\",\"volleyball\"]\n",
    "\n",
    "print(sports)\n",
    "sports[1] = \"hockey\"\n",
    "print(sports)\n",
    "\n",
    "sports[1:3]=[\"basketball\",\"tennis\"] # slicing  operator for multiple values\n",
    "print(sports)"
   ]
  },
  {
   "cell_type": "code",
   "execution_count": 18,
   "id": "ea84af6d",
   "metadata": {},
   "outputs": [
    {
     "name": "stdout",
     "output_type": "stream",
     "text": [
      "['football', 'cricket', 'volleyball']\n",
      "['carrom', 'ludo', 'chess', 'cricket', 'football']\n",
      "\n",
      "\n",
      "['football', 'cricket', 'volleyball', 'carrom', 'ludo', 'chess', 'cricket', 'football']\n",
      "\n",
      "\n",
      "['football', 'cricket', 'volleyball', 'carrom', 'ludo', 'chess', 'cricket', 'football', 'hockey']\n",
      "\n",
      "\n"
     ]
    }
   ],
   "source": [
    "#Concating the list \n",
    "\n",
    "sport1 = [\"football\",\"cricket\",\"volleyball\"]\n",
    "sport2 = [\"carrom\",\"ludo\",\"chess\",\"cricket\", \"football\"]\n",
    "\n",
    "print(sport1)\n",
    "print(sport2)\n",
    "print(\"\\n\")\n",
    "\n",
    "sports = sport1 + sport2\n",
    "print(sports)\n",
    "print(\"\\n\")\n",
    "\n",
    "# -->> LIST SUPPORT DUPLICATE VALUES\n",
    "\n",
    "sports = sports + list([\"hockey\"]) # adding element in list\n",
    "print(sports)\n",
    "print(\"\\n\")\n",
    "\n",
    "#sports+[\"baseball\"]\n",
    "#print(sports)\n",
    "\n",
    "#sports*3\n",
    "#print(sports)\n",
    "\n"
   ]
  },
  {
   "cell_type": "code",
   "execution_count": 27,
   "id": "d4451973",
   "metadata": {},
   "outputs": [
    {
     "name": "stdout",
     "output_type": "stream",
     "text": [
      "['football', 'cricket', 'volleyball', 'carrom', 'ludo', 'chess', 'cricket', 'football', 'hockey']\n",
      "\n",
      "\n",
      "True\n",
      "\n",
      "\n",
      "True\n"
     ]
    }
   ],
   "source": [
    "# Membership Opertor ( in and not in )\n",
    "print(sports)\n",
    "print('\\n')\n",
    "print(\"football\" in sports)\n",
    "print(\"\\n\")\n",
    "print(\"Cricket\" not in sports)"
   ]
  },
  {
   "cell_type": "markdown",
   "id": "dd76047e",
   "metadata": {},
   "source": [
    "# List functions\n",
    "* len()\n",
    "* max()\n",
    "* min()\n",
    "* sum()\n",
    "* sorted()\n",
    "* any()\n",
    "* all()\n",
    "* list()\n",
    "\n",
    "# List methods\n",
    "* appned()\n",
    "* extend()\n",
    "* insert()\n",
    "* index()\n",
    "* count()\n",
    "* remove()\n",
    "* pop()\n",
    "* clear()\n",
    "* reverse()\n",
    "* sort()"
   ]
  },
  {
   "cell_type": "code",
   "execution_count": 36,
   "id": "5c8c06d9",
   "metadata": {},
   "outputs": [
    {
     "name": "stdout",
     "output_type": "stream",
     "text": [
      "7\n",
      "10.5\n",
      "0.0999\n",
      "26.0999\n",
      "[0.0999, 1, 1.5, 2, 5, 6, 10.5]\n",
      "True\n",
      "True\n",
      "[2, 1.5, 1, 5, 6, 10.5, 0.0999]\n"
     ]
    }
   ],
   "source": [
    "mylist = [2,1.5,1,5,6,10.5,.0999]\n",
    "\n",
    "#list methods\n",
    "print(len(mylist))\n",
    "print(max(mylist))\n",
    "print(min(mylist))\n",
    "print(sum(mylist))\n",
    "print(sorted(mylist))\n",
    "print(any(mylist))\n",
    "print(all(mylist))\n",
    "print(list(mylist))\n",
    "#print(sorted(mylist,reverse=True)\n",
    "      \n",
    "#note : -->> IF All the elements is true in the list it will gives true otherwise false"
   ]
  },
  {
   "cell_type": "code",
   "execution_count": 40,
   "id": "73362683",
   "metadata": {},
   "outputs": [
    {
     "name": "stdout",
     "output_type": "stream",
     "text": [
      "[0, 1, 3, 6, 983232, 66, 6]\n",
      "False\n",
      "True\n"
     ]
    }
   ],
   "source": [
    "# 0, 0.0. False, 0+0j these values will be false in python and rest of the value apart from this one will be true.\n",
    "\n",
    "mylist=[0,1,3,6,983232,66,6]\n",
    "\n",
    "print(mylist)\n",
    "print(all(mylist))\n",
    "print(any(mylist))"
   ]
  },
  {
   "cell_type": "code",
   "execution_count": 41,
   "id": "2031ba92",
   "metadata": {},
   "outputs": [
    {
     "name": "stdout",
     "output_type": "stream",
     "text": [
      "[0, False, 0.0, 0j]\n",
      "False\n",
      "False\n"
     ]
    }
   ],
   "source": [
    "mylist=[0,False,0.0,0+0j]\n",
    "\n",
    "print(mylist)\n",
    "print(any(mylist))\n",
    "print(all(mylist))"
   ]
  },
  {
   "cell_type": "code",
   "execution_count": 60,
   "id": "c72800c6",
   "metadata": {},
   "outputs": [
    {
     "name": "stdout",
     "output_type": "stream",
     "text": [
      "['cat', 'tiger', 'dog', 'fox']\n",
      "\n",
      "\n",
      "4\n",
      "\n",
      "\n",
      "['cat', 'tiger', 'dog', 'fox', 'tiger']\n",
      "\n",
      "\n",
      "['cat', 'tiger', 'dog', 'fox', 'tiger', ['tiger', 'lion']]\n",
      "\n",
      "\n",
      "['cat', 'tiger', 'dog', 'fox', 'tiger', ['tiger', 'lion'], 'tiger', 'lion']\n",
      "\n",
      "\n",
      "tiger\n",
      "t\n",
      "\n",
      "\n"
     ]
    }
   ],
   "source": [
    "# List Function\n",
    "\n",
    "animals = [\"cat\",\"tiger\",\"dog\",\"fox\"]\n",
    "print(animals)\n",
    "print(\"\\n\")\n",
    "print(len(animals))\n",
    "print(\"\\n\")\n",
    "\n",
    "animals.append(\"tiger\") # append elements in list\n",
    "print(animals)\n",
    "print(\"\\n\")\n",
    "\n",
    "wild_animals = [\"tiger\", \"lion\"] # adding list inside list\n",
    "animals.append(wild_animals)\n",
    "print(animals)\n",
    "print(\"\\n\")\n",
    "\n",
    "print(animals+wild_animals) # concanating list\n",
    "print(\"\\n\")\n",
    "\n",
    "print(animals[1])  # access item in lists\n",
    "print(animals[1][0])\n",
    "print(\"\\n\")"
   ]
  },
  {
   "cell_type": "code",
   "execution_count": 61,
   "id": "5e018187",
   "metadata": {},
   "outputs": [
    {
     "name": "stdout",
     "output_type": "stream",
     "text": [
      "['cat', 'tiger', 'dog', 'fox', 'tiger', ['tiger', 'lion'], 'r', 'a', 't']\n",
      "\n",
      "\n",
      "['cat', 'tiger', 'dog', 'fox', 'tiger', ['tiger', 'lion'], 'r', 'a', 't', 'rat']\n",
      "\n",
      "\n",
      "['cat', 'tiger', 'dog', 'fox', 'tiger', 'cow', 'r', 'a', 't', 'rat']\n"
     ]
    }
   ],
   "source": [
    "animals.extend(\"rat\")\n",
    "print(animals)\n",
    "print(\"\\n\")\n",
    "\n",
    "animals.extend([\"rat\"])\n",
    "print(animals)\n",
    "print(\"\\n\")\n",
    "\n",
    "animals[5] = 'cow' # override item in lists\n",
    "print(animals)"
   ]
  },
  {
   "cell_type": "code",
   "execution_count": 70,
   "id": "bf6baeb7",
   "metadata": {},
   "outputs": [
    {
     "name": "stdout",
     "output_type": "stream",
     "text": [
      "['cat', 'mouse', 'tiger', 'dog', 'fox', 'mouse', 'cat', 'fox']\n",
      "\n",
      "\n"
     ]
    }
   ],
   "source": [
    "animals = [\"cat\",\"tiger\",\"dog\",\"fox\",\"mouse\",\"cat\",\"fox\"]\n",
    "animals.insert(1,\"mouse\")  # insert(index,value) , not overwrite only insert at the given index\n",
    "print(animals)\n",
    "print(\"\\n\")"
   ]
  },
  {
   "cell_type": "code",
   "execution_count": 71,
   "id": "f2cecfe7",
   "metadata": {},
   "outputs": [
    {
     "name": "stdout",
     "output_type": "stream",
     "text": [
      "['cat', 'mouse', 'tiger', 'dog', 'fox', 'mouse', 'cat', 'fox']\n"
     ]
    }
   ],
   "source": [
    "animals.count(\"mouse\")\n",
    "print(animals)"
   ]
  },
  {
   "cell_type": "markdown",
   "id": "13a935a1",
   "metadata": {},
   "source": [
    "# List comprehension\n",
    "\n",
    "list_comp=[X for x in iterable <test_condition>] --> list inside list which reduce code and time complexity \n",
    "________________________________________________\n",
    "iterable:\n",
    "list\n",
    "tuple\n",
    "dict\n",
    "set\n",
    "string\n",
    "__________________________________________________"
   ]
  },
  {
   "cell_type": "code",
   "execution_count": 4,
   "id": "d53d77f1",
   "metadata": {},
   "outputs": [
    {
     "name": "stdout",
     "output_type": "stream",
     "text": [
      "['i', ' ', 'l', 'o', 'v', 'e', ' ', 'p', 'y', 't', 'h', 'o', 'n']\n"
     ]
    }
   ],
   "source": [
    "mystring = \"i love python\"\n",
    "mylist = []\n",
    "\n",
    "for i in mystring:\n",
    "    mylist.append(i)\n",
    "print(mylist)  "
   ]
  },
  {
   "cell_type": "code",
   "execution_count": 5,
   "id": "27914d6c",
   "metadata": {},
   "outputs": [
    {
     "data": {
      "text/plain": [
       "['i', ' ', 'l', 'o', 'v', 'e', ' ', 'p', 'y', 't', 'h', 'o', 'n']"
      ]
     },
     "execution_count": 5,
     "metadata": {},
     "output_type": "execute_result"
    }
   ],
   "source": [
    "mylist = [x for x in mystring] # same above code we can do from list comprehension.\n",
    "mylist"
   ]
  },
  {
   "cell_type": "code",
   "execution_count": 9,
   "id": "6d8ce3da",
   "metadata": {},
   "outputs": [
    {
     "name": "stdout",
     "output_type": "stream",
     "text": [
      "[1, 4, 9, 16, 25]\n",
      "\n",
      "\n",
      "[1, 4, 9, 16, 25]\n"
     ]
    }
   ],
   "source": [
    "#wap to produce squre of numbers from 1 to 5 , store them in a list and print the list.\n",
    "\n",
    "mylist = []\n",
    "for i in range(1,6):\n",
    "    mylist.append(i**2)\n",
    "print(mylist)\n",
    "print(\"\\n\")\n",
    "\n",
    "#Same program using List Comprehension\n",
    "mylist = [x**2 for x in range(1,6)]\n",
    "print(mylist)"
   ]
  },
  {
   "cell_type": "code",
   "execution_count": 13,
   "id": "5d0bf036",
   "metadata": {},
   "outputs": [
    {
     "name": "stdout",
     "output_type": "stream",
     "text": [
      "Please Enter some string: python\n",
      "['P', 'Y', 'T', 'H', 'O', 'N']\n",
      "\n",
      "\n",
      "['P', 'Y', 'T', 'H', 'O', 'N']\n"
     ]
    }
   ],
   "source": [
    "# wap to accpet a string from user and covert each word of the gievn string into upper case store it in a list.\n",
    "\n",
    "my_string = input(\"Please Enter some string: \")\n",
    "mylist = []\n",
    "\n",
    "for i in my_string:\n",
    "    mylist.append(i.upper())\n",
    "print(mylist)\n",
    "print(\"\\n\")\n",
    "\n",
    "# Using List Comprehension\n",
    "my_list = [x.upper() for x in my_string]\n",
    "print(mylist)"
   ]
  },
  {
   "cell_type": "code",
   "execution_count": 17,
   "id": "27a6359b",
   "metadata": {},
   "outputs": [
    {
     "data": {
      "text/plain": [
       "['Python Programming']"
      ]
     },
     "execution_count": 17,
     "metadata": {},
     "output_type": "execute_result"
    }
   ],
   "source": [
    "\"Python Programming\".split(\",\")\n"
   ]
  },
  {
   "cell_type": "code",
   "execution_count": 22,
   "id": "fbed115a",
   "metadata": {},
   "outputs": [
    {
     "name": "stdout",
     "output_type": "stream",
     "text": [
      "['PYTHON', 'PROGRAMMING']\n"
     ]
    }
   ],
   "source": [
    "my_string = \"Python Programming\"\n",
    "my_list_ = [x.upper() for x in my_string.split()]\n",
    "print(my_list)"
   ]
  },
  {
   "cell_type": "code",
   "execution_count": null,
   "id": "6b706a19",
   "metadata": {},
   "outputs": [],
   "source": [
    "#wap to accept 5 int from user and store then in a list, now display the sum of element and the element of list\n",
    "my_list = []\n",
    "numbers = input(\"Enter the numbers: \")\n",
    "for i in numbers.split():\n",
    "    my_list.append(int(i))\n",
    "\n",
    "print(mylist)\n",
    "print(sum(mylist))"
   ]
  },
  {
   "cell_type": "code",
   "execution_count": null,
   "id": "b4099983",
   "metadata": {},
   "outputs": [],
   "source": []
  }
 ],
 "metadata": {
  "kernelspec": {
   "display_name": "Python 3 (ipykernel)",
   "language": "python",
   "name": "python3"
  },
  "language_info": {
   "codemirror_mode": {
    "name": "ipython",
    "version": 3
   },
   "file_extension": ".py",
   "mimetype": "text/x-python",
   "name": "python",
   "nbconvert_exporter": "python",
   "pygments_lexer": "ipython3",
   "version": "3.9.12"
  }
 },
 "nbformat": 4,
 "nbformat_minor": 5
}
