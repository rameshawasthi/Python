{
 "cells": [
  {
   "cell_type": "markdown",
   "id": "515d995f",
   "metadata": {},
   "source": [
    "# Function in Tuple\n",
    "* len()\n",
    "\n",
    "* max()\n",
    "\n",
    "* min()\n",
    "\n",
    "* sum()\n",
    "\n",
    "* sorted()\n",
    "\n",
    "* any()\n",
    "\n",
    "* all()\n",
    "\n",
    "* tuple()\n",
    "\n",
    "# Methods for tuple\n",
    "\n",
    "* append()   # it won't work\n",
    "\n",
    "\n",
    "*  extend()  # it won't work\n",
    "\n",
    "\n",
    "* insert()   # it won't work\n",
    "\n",
    "\n",
    "* count()    #work\n",
    "\n",
    "\n",
    "\n",
    "* index()    #work\n",
    "\n",
    "\n",
    "\n",
    "* clear()    # it won't work\n",
    "\n",
    "\n",
    "* pop()      # it won't work\n",
    "\n",
    "\n",
    "\n",
    "* remove()  # it won't work\n",
    "\n",
    "\n",
    "* sort()    #work\n",
    "\n",
    "\n",
    "* reverse() #work"
   ]
  },
  {
   "cell_type": "code",
   "execution_count": 7,
   "id": "89ebd8be",
   "metadata": {},
   "outputs": [
    {
     "name": "stdout",
     "output_type": "stream",
     "text": [
      "(1, 3, 4.5, 6.5, 9, 0, 11, 8)\n",
      "8\n",
      "11\n",
      "0\n",
      "43.0\n",
      "[0, 1, 3, 4.5, 6.5, 8, 9, 11]\n",
      "[11, 9, 8, 6.5, 4.5, 3, 1, 0]\n",
      "True\n",
      "False\n"
     ]
    }
   ],
   "source": [
    "my_tuple=(1,3,4.5,6.5,9,0,11,8)\n",
    "\n",
    "print(my_tuple)\n",
    "print(len(my_tuple))\n",
    "print(max(my_tuple))\n",
    "print(min(my_tuple))\n",
    "print(sum(my_tuple))\n",
    "print(sorted(my_tuple))\n",
    "print(sorted(my_tuple, reverse = True))\n",
    "print(any(my_tuple))  #atleast one element should be true\n",
    "print(all(my_tuple))  #all element should be true\n",
    "print(my_tuple.index(9))\n",
    "print(my_tuple.count(3))"
   ]
  },
  {
   "cell_type": "code",
   "execution_count": 15,
   "id": "16873f3f",
   "metadata": {},
   "outputs": [
    {
     "name": "stdout",
     "output_type": "stream",
     "text": [
      "True\n",
      "True\n",
      "False\n"
     ]
    }
   ],
   "source": [
    "#M embership operator in and not in works with tuple\n",
    "\n",
    "print(1 in my_tuple)\n",
    "print(100 not in my_tuple)\n",
    "print(100 in my_tuple)"
   ]
  },
  {
   "cell_type": "code",
   "execution_count": 20,
   "id": "2344fb1d",
   "metadata": {},
   "outputs": [
    {
     "name": "stdout",
     "output_type": "stream",
     "text": [
      "(1, 2, 3, 'a', 'b', 'c', 'd')\n",
      "\n",
      "\n",
      "2166951502720\n",
      "2166951661792\n",
      "2166951728512\n"
     ]
    }
   ],
   "source": [
    "#Concatenation\n",
    "tup1 = (1,2,3)\n",
    "tup2= (\"a\",\"b\",\"c\",\"d\")\n",
    "tup3 = tup1+tup2\n",
    "print(tup3)\n",
    "print(\"\\n\")\n",
    "print(id(tup1))\n",
    "print(id(tup2))\n",
    "print(id(tup1+tup2))"
   ]
  },
  {
   "cell_type": "code",
   "execution_count": 24,
   "id": "20ff1cfa",
   "metadata": {},
   "outputs": [
    {
     "name": "stdout",
     "output_type": "stream",
     "text": [
      "2166951919488\n",
      "2166951936064\n"
     ]
    }
   ],
   "source": [
    "#multiplication of element\n",
    "\n",
    "x = (1,2,3)\n",
    "print(id(x))\n",
    "print(id(x*3))\n"
   ]
  },
  {
   "cell_type": "code",
   "execution_count": 28,
   "id": "a730b5c3",
   "metadata": {},
   "outputs": [
    {
     "name": "stdout",
     "output_type": "stream",
     "text": [
      "True\n",
      "False\n"
     ]
    }
   ],
   "source": [
    "# Relational operators\n",
    "\n",
    "x = (2,3,4,5)\n",
    "y = (2,3,4,5)\n",
    "\n",
    "print(x==y)\n",
    "print(x < y)"
   ]
  },
  {
   "cell_type": "code",
   "execution_count": 8,
   "id": "0bce491d",
   "metadata": {},
   "outputs": [
    {
     "data": {
      "text/plain": [
       "('p', 'y', 't', 'h', 'o', 'n')"
      ]
     },
     "execution_count": 8,
     "metadata": {},
     "output_type": "execute_result"
    }
   ],
   "source": [
    "tuple(\"python\") "
   ]
  },
  {
   "cell_type": "code",
   "execution_count": 9,
   "id": "4ffb7f51",
   "metadata": {},
   "outputs": [
    {
     "data": {
      "text/plain": [
       "(1, 2, 4, 5, 'xyz')"
      ]
     },
     "execution_count": 9,
     "metadata": {},
     "output_type": "execute_result"
    }
   ],
   "source": [
    "#change list into tuple\n",
    "tuple([1,2,4,5,\"xyz\"])"
   ]
  },
  {
   "cell_type": "markdown",
   "id": "803e6a43",
   "metadata": {},
   "source": [
    "# set\n",
    "\n",
    "* we can not keep duplicate value\n",
    "\n",
    "* we can not use subscript operator(we can not do indexing as well as slicing)\n",
    "\n",
    "* set is unordered collection.\n",
    "\n",
    "* set = {} --> empty set\n",
    "\n",
    "# Function in Set\n",
    "\n",
    "* add()\n",
    "\n",
    "* clear()\n",
    "\n",
    "* copy()\n",
    "\n",
    "* pop() \n",
    "\n",
    "* remove() \n",
    "\n",
    "* update()"
   ]
  },
  {
   "cell_type": "code",
   "execution_count": 1,
   "id": "5d76b70a",
   "metadata": {},
   "outputs": [
    {
     "name": "stdout",
     "output_type": "stream",
     "text": [
      "{'a', 1, 2, 3, 'c', 'b'}\n"
     ]
    }
   ],
   "source": [
    "my_set = {1,2,3,\"a\",\"b\",\"c\"}\n",
    "print(my_set)"
   ]
  },
  {
   "cell_type": "code",
   "execution_count": 13,
   "id": "9402e03b",
   "metadata": {},
   "outputs": [
    {
     "name": "stdout",
     "output_type": "stream",
     "text": [
      "{'a', 1, 2, 3, 'c', '10', 10, 'b'}\n"
     ]
    }
   ],
   "source": [
    "#add() function\n",
    "my_set = {1,2,3,\"a\",\"b\",\"c\"}\n",
    "\n",
    "my_set.add(10)\n",
    "my_set.add(\"10\")\n",
    "print(my_set)"
   ]
  },
  {
   "cell_type": "code",
   "execution_count": 14,
   "id": "8ae1ee9a",
   "metadata": {},
   "outputs": [
    {
     "name": "stdout",
     "output_type": "stream",
     "text": [
      "set()\n"
     ]
    }
   ],
   "source": [
    "my_set = {1,2,3,\"a\",\"b\",\"c\"}\n",
    "my_set.clear()\n",
    "print(my_set)"
   ]
  },
  {
   "cell_type": "code",
   "execution_count": 15,
   "id": "dfab9af8",
   "metadata": {},
   "outputs": [
    {
     "data": {
      "text/plain": [
       "{1, 2, 3, 'a', 'b', 'c'}"
      ]
     },
     "execution_count": 15,
     "metadata": {},
     "output_type": "execute_result"
    }
   ],
   "source": [
    "my_set = {1,2,3,\"a\",\"b\",\"c\"}\n",
    "\n",
    "my_set.copy()"
   ]
  },
  {
   "cell_type": "code",
   "execution_count": 2,
   "id": "72277a80",
   "metadata": {},
   "outputs": [
    {
     "data": {
      "text/plain": [
       "{1, 2, 3, 99.99, 'python'}"
      ]
     },
     "execution_count": 2,
     "metadata": {},
     "output_type": "execute_result"
    }
   ],
   "source": [
    "# Can pass any iterable to this set funciton set()\n",
    "set([1,2,3,\"python\",99.99])"
   ]
  }
 ],
 "metadata": {
  "kernelspec": {
   "display_name": "Python 3 (ipykernel)",
   "language": "python",
   "name": "python3"
  },
  "language_info": {
   "codemirror_mode": {
    "name": "ipython",
    "version": 3
   },
   "file_extension": ".py",
   "mimetype": "text/x-python",
   "name": "python",
   "nbconvert_exporter": "python",
   "pygments_lexer": "ipython3",
   "version": "3.9.12"
  }
 },
 "nbformat": 4,
 "nbformat_minor": 5
}
