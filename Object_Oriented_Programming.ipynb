{
 "cells": [
  {
   "cell_type": "markdown",
   "id": "f0b291c3",
   "metadata": {},
   "source": [
    "# Python Scope\n",
    "\n",
    "* Python Scope follows the LEGB Rule:\n",
    "   * Local\n",
    "   * Enclosing Function locals\n",
    "   * Global\n",
    "   * Built-in\n",
    "* L : local - Names assigned in any way within a function(def or lambda)), and not declared global in that function.\n",
    "\n",
    "* E: (EFLs) - Name in the local scope of any and all enclosing functions(def or lambda), from inner to outer.\n",
    "\n",
    "* G: Global(module) - Names assigned at the top-level of a module file , or declared global in a def within the file.\n",
    "\n",
    "* B: Built-in (Python) - Names Preassigned in the built-in names module:\n",
    "   open,range, SyntaxError, ...."
   ]
  },
  {
   "cell_type": "code",
   "execution_count": 18,
   "id": "16e7212f",
   "metadata": {},
   "outputs": [
    {
     "name": "stdout",
     "output_type": "stream",
     "text": [
      "20\n"
     ]
    }
   ],
   "source": [
    "x = 20\n",
    "\n",
    "def my_func():\n",
    "    x = 30\n",
    "    return x\n",
    "\n",
    "print(x) # print global variable which is top x \n",
    "print(my_func()) # print local variable x.\n",
    "\n",
    "#my_func()\n",
    "# print(x) --- in this case my_func is call global variable."
   ]
  },
  {
   "cell_type": "code",
   "execution_count": 27,
   "id": "46759a3e",
   "metadata": {},
   "outputs": [
    {
     "name": "stdout",
     "output_type": "stream",
     "text": [
      "27\n",
      "Hello harry\n",
      " This is a global name!\n"
     ]
    }
   ],
   "source": [
    "#local variable \n",
    "pwr = lambda a:a**3\n",
    "print(pwr(3))\n",
    "\n",
    "# Enclosing function locals\n",
    "name = \" This is a global name!\"\n",
    "\n",
    "def greet():\n",
    "    name = \"harry\"  \n",
    "    \n",
    "    def hello():\n",
    "        print(\"Hello \"+name)\n",
    "        \n",
    "    hello()\n",
    "greet()\n",
    "print(name)\n",
    " \n",
    "#If name under greet() is comment out  the hello() function call global variable \n",
    "# and print top name."
   ]
  },
  {
   "cell_type": "markdown",
   "id": "f8d51452",
   "metadata": {},
   "source": [
    "# Object Oriented Programming\n",
    "\n",
    "* Object Orientd Programming is a way to use Python to create our Own Objects.\n",
    "\n",
    "* Everythings in  python is object.\n",
    "\n",
    "* Create  class using keyword class and write class name which is in capital later.\n"
   ]
  },
  {
   "cell_type": "code",
   "execution_count": 8,
   "id": "66821248",
   "metadata": {},
   "outputs": [
    {
     "name": "stdout",
     "output_type": "stream",
     "text": [
      "<class '__main__.Myclass'>\n"
     ]
    }
   ],
   "source": [
    "# Create own object using class keyword. {<class '__main__.Myclass'>}\n",
    "\n",
    "class Myclass():\n",
    "    pass\n",
    "\n",
    "a = Myclass()\n",
    "print(type(a))"
   ]
  },
  {
   "cell_type": "code",
   "execution_count": 7,
   "id": "10936dd2",
   "metadata": {},
   "outputs": [
    {
     "name": "stdout",
     "output_type": "stream",
     "text": [
      "<class 'list'>\n",
      "<class 'tuple'>\n",
      "<class 'dict'>\n",
      "<class 'int'>\n",
      "<class 'float'>\n",
      "<class 'str'>\n",
      "<class 'bool'>\n"
     ]
    }
   ],
   "source": [
    "#Python Built in  object\n",
    "demo_list = [1,2,3,4,5]\n",
    "print(type(demo_list))\n",
    "\n",
    "print(type(()))\n",
    "print(type({}))\n",
    "\n",
    "print(type(5))\n",
    "print(type(5.0))\n",
    "print(type(\"abc\"))\n",
    "print(type(True))"
   ]
  },
  {
   "cell_type": "code",
   "execution_count": 22,
   "id": "e366a8f4",
   "metadata": {},
   "outputs": [
    {
     "name": "stdout",
     "output_type": "stream",
     "text": [
      "<class '__main__.Cat'>\n",
      "<__main__.Cat object at 0x00000292C3952040>\n",
      "Ragdoll harry\n",
      "Birman\n",
      "Mammal\n"
     ]
    }
   ],
   "source": [
    "class Cat():   \n",
    "    \n",
    "    #CLASS OBJECT ATTRIBUTE\n",
    "    species = \"Mammal\"\n",
    "    \n",
    "    def __init__(self, breed, name):\n",
    "        self.breed = breed # breed is attribute\n",
    "        self.name  = name\n",
    "    \n",
    "# mycat = Cat(breed = 'Ragdoll', name = \"harry\" ) \n",
    "# Instances\n",
    "mycat = Cat('Ragdoll', \"harry\")\n",
    "\n",
    "othercat = Cat('Birman',\"sarry\") \n",
    "#  Instances\n",
    "\n",
    "print(type(mycat))\n",
    "\n",
    "print(mycat)\n",
    "print(mycat.breed, mycat.name)\n",
    "print(othercat.breed)\n",
    "\n",
    "print(mycat.species)"
   ]
  },
  {
   "cell_type": "markdown",
   "id": "c8c57f6e",
   "metadata": {},
   "source": [
    "* __init__  == initialization,  This init method remember has two sets of underscore surrounding it, defining it as a special method.\n",
    "\n",
    "* self = self keyword tells that this method refers to itself.\n",
    "\n",
    "* "
   ]
  },
  {
   "cell_type": "code",
   "execution_count": 15,
   "id": "0ce95e4f",
   "metadata": {},
   "outputs": [
    {
     "name": "stdout",
     "output_type": "stream",
     "text": [
      "31400.0\n"
     ]
    }
   ],
   "source": [
    "class Circle():\n",
    "    pi = 3.14\n",
    "    \n",
    "    def __init__(self, radius):\n",
    "        self.radius = radius\n",
    "        \n",
    "    def area(self):\n",
    "        return self.radius*self.radius*Circle.pi\n",
    "    \n",
    "    def set_radius(self,new_radius):  # Redifine method this also  technique to reset attribute value\n",
    "        self.radius = new_radius\n",
    "       \n",
    "\n",
    "    \n",
    "cr = Circle(2)\n",
    "#cr.radius =10\n",
    "\n",
    "cr.set_radius(100)\n",
    "\n",
    "print(cr.area())"
   ]
  },
  {
   "cell_type": "markdown",
   "id": "34aedd04",
   "metadata": {},
   "source": [
    "# INHERITANCE \n",
    "\n",
    "*  code reuse and reduction of complexity of a program that we don't have to constantly be creating.\n"
   ]
  },
  {
   "cell_type": "code",
   "execution_count": 20,
   "id": "c1f09644",
   "metadata": {},
   "outputs": [
    {
     "name": "stdout",
     "output_type": "stream",
     "text": [
      "CAT  class\n",
      "meoooow\n",
      "Cat love milk\n",
      "None None\n"
     ]
    }
   ],
   "source": [
    "class Animal():\n",
    "    \n",
    "    def __init__(self):\n",
    "        print(\"Animal Created\")\n",
    "        \n",
    "    def animaltype(self):\n",
    "        print(\"ANIMAL TYPES\")\n",
    "    \n",
    "    def eat(self):\n",
    "        print(\"Eating\")\n",
    "\n",
    "        \n",
    "class Cat(Animal):\n",
    "    \n",
    "    def __init__(self):\n",
    "        #Animal.__init__(self)\n",
    "        print(\"CAT  class\")\n",
    "    \n",
    "    def  meows(self):\n",
    "        print(\"meoooow\")\n",
    "    \n",
    "    def eat(self):\n",
    "        print(\"Cat love milk\")\n",
    "\n",
    "#animal = Animal()\n",
    "#animal.animaltype()\n",
    "#animal.eat()\n",
    "\n",
    "cat = Cat()\n",
    "print(cat.meows(), cat.eat())\n"
   ]
  },
  {
   "cell_type": "markdown",
   "id": "130ab24a",
   "metadata": {},
   "source": [
    "# SPECIAL METHODS"
   ]
  },
  {
   "cell_type": "code",
   "execution_count": 21,
   "id": "6aff7631",
   "metadata": {},
   "outputs": [
    {
     "name": "stdout",
     "output_type": "stream",
     "text": [
      "Delet the book\n",
      "Title: python, Author: harry, Pages: 300\n",
      "Title: Java, Author: John, Pages: 400\n",
      "300\n",
      "400\n",
      "python\n",
      "Delet the book\n"
     ]
    }
   ],
   "source": [
    "class Book():\n",
    "    def __init__(self, title, author, pages):\n",
    "        self.title = title\n",
    "        self.author = author\n",
    "        self.pages = pages\n",
    "        \n",
    "    def __str__(self):    # special method\n",
    "        return \"Title: {}, Author: {}, Pages: {}\".format(self.title,self.author,self.pages)\n",
    "        \n",
    "    def __len__(self):    # special method\n",
    "        return self.pages\n",
    "    \n",
    "    def __del__(self):\n",
    "        print(\"Delet the book\")\n",
    "\n",
    "        \n",
    "book = Book(\"python\", \"harry\", 300)\n",
    "book1 = Book(\"Java\",\"John\",400)\n",
    "\n",
    "print(book)\n",
    "print(book1)\n",
    "\n",
    "print(len(book))\n",
    "print(len(book1))\n",
    "print(book.title)\n",
    "\n",
    "del book"
   ]
  }
 ],
 "metadata": {
  "kernelspec": {
   "display_name": "Python 3 (ipykernel)",
   "language": "python",
   "name": "python3"
  },
  "language_info": {
   "codemirror_mode": {
    "name": "ipython",
    "version": 3
   },
   "file_extension": ".py",
   "mimetype": "text/x-python",
   "name": "python",
   "nbconvert_exporter": "python",
   "pygments_lexer": "ipython3",
   "version": "3.9.13"
  }
 },
 "nbformat": 4,
 "nbformat_minor": 5
}
