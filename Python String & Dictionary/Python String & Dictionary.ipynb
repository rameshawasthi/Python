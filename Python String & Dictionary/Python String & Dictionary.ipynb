{
 "cells": [
  {
   "cell_type": "markdown",
   "id": "0c9d4860",
   "metadata": {},
   "source": [
    "# String\n",
    "\n",
    "# function in string\n",
    "\n",
    "* len()\n",
    "\n",
    "* max()\n",
    "\n",
    "* min()\n",
    "\n",
    "* chr()\n",
    "\n",
    "* ord()\n",
    "\n",
    "# Methods of the string\n",
    "\n",
    "* capitalize()\n",
    "\n",
    "* lower()\n",
    "\n",
    "* upper()\n",
    "\n",
    "\n",
    "\n"
   ]
  },
  {
   "cell_type": "code",
   "execution_count": 1,
   "id": "34f6986d",
   "metadata": {},
   "outputs": [
    {
     "name": "stdout",
     "output_type": "stream",
     "text": [
      "I Love Python Programming\n"
     ]
    }
   ],
   "source": [
    "mystring = \"\"\"I Love Python Programming\"\"\"\n",
    "print(mystring)"
   ]
  },
  {
   "cell_type": "code",
   "execution_count": 5,
   "id": "9617464f",
   "metadata": {},
   "outputs": [
    {
     "data": {
      "text/plain": [
       "'I \\nLove\\nPython \\nProgramming'"
      ]
     },
     "execution_count": 5,
     "metadata": {},
     "output_type": "execute_result"
    }
   ],
   "source": [
    "mystring = \"\"\"I \n",
    "Love\n",
    "Python \n",
    "Programming\"\"\"\n",
    "\n",
    "mystring"
   ]
  },
  {
   "cell_type": "code",
   "execution_count": 8,
   "id": "8395112a",
   "metadata": {},
   "outputs": [
    {
     "data": {
      "text/plain": [
       "' '"
      ]
     },
     "execution_count": 8,
     "metadata": {},
     "output_type": "execute_result"
    }
   ],
   "source": [
    "mystring = \" \"  # python count space\n",
    "\n",
    "mystring"
   ]
  },
  {
   "cell_type": "code",
   "execution_count": 50,
   "id": "1e7772f0",
   "metadata": {},
   "outputs": [
    {
     "name": "stdout",
     "output_type": "stream",
     "text": [
      "5\n",
      "12\n",
      "t\n",
      "y\n",
      "P\n",
      "y\n"
     ]
    }
   ],
   "source": [
    "mystring = \"Python\"\n",
    "\n",
    "print(len(mystring)-1)\n",
    "print(len(mystring)*2)\n",
    "print(mystring[2])\n",
    "print(mystring[1:2])\n",
    "\n",
    "print(min(mystring))\n",
    "print(max(mystring))"
   ]
  },
  {
   "cell_type": "code",
   "execution_count": 53,
   "id": "73228328",
   "metadata": {},
   "outputs": [
    {
     "name": "stdout",
     "output_type": "stream",
     "text": [
      "Please Enter Some String: Python\n",
      "5 n\n",
      "4 o\n",
      "3 h\n",
      "2 t\n",
      "1 y\n",
      "0 P\n"
     ]
    }
   ],
   "source": [
    "# Wap to take input from user and print it in reverse order\n",
    "\n",
    "string = input(\"Please Enter Some String: \")\n",
    "\n",
    "for i in range(len(string)-1,-1,-1):\n",
    "    print(i, end = \" \")\n",
    "    print(string[i])"
   ]
  },
  {
   "cell_type": "code",
   "execution_count": 61,
   "id": "928a9fb6",
   "metadata": {},
   "outputs": [
    {
     "name": "stdout",
     "output_type": "stream",
     "text": [
      "^\n",
      "97\n"
     ]
    }
   ],
   "source": [
    "print(chr(94))\n",
    "print(ord(\"a\"))"
   ]
  },
  {
   "cell_type": "code",
   "execution_count": 56,
   "id": "a6bddf0f",
   "metadata": {},
   "outputs": [
    {
     "name": "stdout",
     "output_type": "stream",
     "text": [
      "pythonProgramming\n",
      "Python Programming\n",
      "\n",
      "\n",
      "PythonPython\n"
     ]
    }
   ],
   "source": [
    "#concatination\n",
    "print(\"python\" + \"Programming\")\n",
    "print(\"Python \" + \"Programming\")\n",
    "print(\"\\n\")\n",
    "#String Multiplication\n",
    "print(\"Python\"*2)\n"
   ]
  },
  {
   "cell_type": "code",
   "execution_count": 32,
   "id": "c806f31d",
   "metadata": {},
   "outputs": [
    {
     "name": "stdout",
     "output_type": "stream",
     "text": [
      "True\n",
      "True\n"
     ]
    }
   ],
   "source": [
    "mystring = \"Python  Programming Language\"\n",
    "\n",
    "print(\" \" in mystring )\n",
    "print(\"p\" not in mystring)"
   ]
  },
  {
   "cell_type": "code",
   "execution_count": 42,
   "id": "76e7fe4c",
   "metadata": {},
   "outputs": [
    {
     "name": "stdout",
     "output_type": "stream",
     "text": [
      "False\n",
      "True\n",
      "True\n"
     ]
    }
   ],
   "source": [
    "print(\"Python\" == \"python\")\n",
    "print(\"python\" == \"python\")\n",
    "\n",
    "print(\"free\"<\"tree\")"
   ]
  },
  {
   "cell_type": "code",
   "execution_count": 65,
   "id": "8ea58d4c",
   "metadata": {},
   "outputs": [
    {
     "name": "stdout",
     "output_type": "stream",
     "text": [
      "guido van rossum\n",
      "Guido van rossum\n"
     ]
    }
   ],
   "source": [
    "# capitalize( ):Returns a copy of the string with first character capitalized and rest of the characters in lower case.\n",
    "name=\"guido van rossum\"\n",
    "print(name)\n",
    "\n",
    "newname=name.capitalize()\n",
    "print(newname)"
   ]
  },
  {
   "cell_type": "code",
   "execution_count": 68,
   "id": "61ca734b",
   "metadata": {},
   "outputs": [
    {
     "name": "stdout",
     "output_type": "stream",
     "text": [
      "python\n",
      "PYTHON\n"
     ]
    }
   ],
   "source": [
    "# Returns a copy of the string with all letters converted to lowercase and uppercase respectively\n",
    "#lower( )\n",
    "#upper( )\n",
    "\n",
    "name = \"PYthon\"\n",
    "print(name.lower())\n",
    "print(name.upper())"
   ]
  },
  {
   "cell_type": "code",
   "execution_count": 69,
   "id": "daaa1d9b",
   "metadata": {},
   "outputs": [
    {
     "data": {
      "text/plain": [
       "'pYTHON pROGRAMMING'"
      ]
     },
     "execution_count": 69,
     "metadata": {},
     "output_type": "execute_result"
    }
   ],
   "source": [
    "#swapcase():Returns a copy of the string with the case of every character swapped . \n",
    "#Means that lowercase characters are changed to uppercase and vice-versa.\n",
    "\n",
    "mystring =\"Python Programming\"\n",
    "mystring.swapcase()"
   ]
  },
  {
   "cell_type": "code",
   "execution_count": 70,
   "id": "4836f08b",
   "metadata": {},
   "outputs": [
    {
     "data": {
      "text/plain": [
       "'Python Programming'"
      ]
     },
     "execution_count": 70,
     "metadata": {},
     "output_type": "execute_result"
    }
   ],
   "source": [
    "#title(): Returns a copy of the string converted to proper case or title case. \n",
    "#all words begin with uppercase letter and the rest are in lowercase.\n",
    "mystring =\"python programming\"\n",
    "mystring.title()"
   ]
  },
  {
   "cell_type": "code",
   "execution_count": 74,
   "id": "6766b7d4",
   "metadata": {},
   "outputs": [
    {
     "data": {
      "text/plain": [
       "False"
      ]
     },
     "execution_count": 74,
     "metadata": {},
     "output_type": "execute_result"
    }
   ],
   "source": [
    "# isalpha( ) : Returns True if the string contains only alphabets ,otherwise returns False\n",
    "mystring =\"python programming\"\n",
    "mystring.isalpha()"
   ]
  },
  {
   "cell_type": "code",
   "execution_count": 75,
   "id": "4907ce4c",
   "metadata": {},
   "outputs": [
    {
     "data": {
      "text/plain": [
       "True"
      ]
     },
     "execution_count": 75,
     "metadata": {},
     "output_type": "execute_result"
    }
   ],
   "source": [
    "# isdigit(): Returns True if the string contains only digits , otherwise returns False\n",
    "mydigit = \"12347823231\"\n",
    "mydigit.isdigit()"
   ]
  },
  {
   "cell_type": "code",
   "execution_count": 76,
   "id": "17daf32f",
   "metadata": {},
   "outputs": [],
   "source": [
    "# isalnum(): Returns True if the string contains only alphanumeric characters , otherwise returns False\n",
    "mystring=\"python123\"\n",
    "mystring1=\"python\"\n",
    "mystring2=\"1232345\"\n",
    "mystring3=\"python123 programming456\"\n",
    "mystring4=\"zyrl0$%*\""
   ]
  },
  {
   "cell_type": "code",
   "execution_count": 77,
   "id": "bd4b2e5f",
   "metadata": {},
   "outputs": [
    {
     "name": "stdout",
     "output_type": "stream",
     "text": [
      "True\n",
      "True\n",
      "True\n",
      "False\n",
      "False\n"
     ]
    }
   ],
   "source": [
    "print(mystring.isalnum())\n",
    "print(mystring1.isalnum())\n",
    "print(mystring2.isalnum())\n",
    "print(mystring3.isalnum())\n",
    "print(mystring4.isalnum())"
   ]
  },
  {
   "cell_type": "code",
   "execution_count": 78,
   "id": "d133b483",
   "metadata": {},
   "outputs": [
    {
     "name": "stdout",
     "output_type": "stream",
     "text": [
      "True\n",
      "False\n"
     ]
    }
   ],
   "source": [
    "#isspace(): Returns True if the string contains only whitespace characters , otherwise returns False\n",
    "string = \" \"\n",
    "print(string.isspace())\n",
    "\n",
    "string = \"\"\n",
    "print(string.isspace())"
   ]
  },
  {
   "cell_type": "code",
   "execution_count": 79,
   "id": "d4d5da55",
   "metadata": {},
   "outputs": [
    {
     "name": "stdout",
     "output_type": "stream",
     "text": [
      "False\n",
      "True\n"
     ]
    }
   ],
   "source": [
    "# startswith()  # endswith()\n",
    "\n",
    "mystring = \"Python Programming Language\"\n",
    "\n",
    "print(mystring.startswith(\"p\"))\n",
    "print(mystring.endswith(\"e\"))"
   ]
  },
  {
   "cell_type": "code",
   "execution_count": 81,
   "id": "c46f9f8d",
   "metadata": {},
   "outputs": [
    {
     "data": {
      "text/plain": [
       "16"
      ]
     },
     "execution_count": 81,
     "metadata": {},
     "output_type": "execute_result"
    }
   ],
   "source": [
    "#index() : Returns the index of first occurrence of a substring inside the string (if found).\n",
    "#If the substring is not found, it raises an exception.\n",
    "\n",
    "text = \"Hello today is  sunday, and today is holiday\"\n",
    "text.index(\"sunday\")"
   ]
  },
  {
   "cell_type": "code",
   "execution_count": 82,
   "id": "40515d52",
   "metadata": {},
   "outputs": [
    {
     "data": {
      "text/plain": [
       "2"
      ]
     },
     "execution_count": 82,
     "metadata": {},
     "output_type": "execute_result"
    }
   ],
   "source": [
    "#count(): Returns the number of occurrences of a substring in the given string\n",
    "text = \"Hello this sunday, and today is holiday\"\n",
    "text.count('is')"
   ]
  },
  {
   "cell_type": "code",
   "execution_count": 83,
   "id": "bc0b5e45",
   "metadata": {},
   "outputs": [
    {
     "data": {
      "text/plain": [
       "['', 'hello!Python ', '= Programming', ' #']"
      ]
     },
     "execution_count": 83,
     "metadata": {},
     "output_type": "execute_result"
    }
   ],
   "source": [
    "#split() \n",
    "\"@hello!Python @= Programming@ #\" .split(\"@\")"
   ]
  },
  {
   "cell_type": "code",
   "execution_count": 84,
   "id": "ce530cdb",
   "metadata": {},
   "outputs": [
    {
     "data": {
      "text/plain": [
       "'p123y123t123h123o123n'"
      ]
     },
     "execution_count": 84,
     "metadata": {},
     "output_type": "execute_result"
    }
   ],
   "source": [
    "# join()\n",
    "\"123\".join('python')"
   ]
  },
  {
   "cell_type": "code",
   "execution_count": 85,
   "id": "d94402ee",
   "metadata": {},
   "outputs": [
    {
     "data": {
      "text/plain": [
       "'@hello!Python @= Programming@ #'"
      ]
     },
     "execution_count": 85,
     "metadata": {},
     "output_type": "execute_result"
    }
   ],
   "source": [
    "\"@\".join(['', 'hello!Python ', '= Programming', ' #'])"
   ]
  },
  {
   "cell_type": "code",
   "execution_count": 88,
   "id": "39308c89",
   "metadata": {},
   "outputs": [
    {
     "name": "stdout",
     "output_type": "stream",
     "text": [
      "my name is Harry my age is 10\n"
     ]
    }
   ],
   "source": [
    "# f-string string interpolation ,  time com complexity is very less\n",
    "age=10\n",
    "name=\"Harry\"\n",
    "print(f\"my name is {name} my age is {age}\")"
   ]
  },
  {
   "cell_type": "code",
   "execution_count": 89,
   "id": "9452943c",
   "metadata": {},
   "outputs": [
    {
     "name": "stdout",
     "output_type": "stream",
     "text": [
      "my first number is 10 my second number is 20 and max number is 20\n"
     ]
    }
   ],
   "source": [
    "# Print max number\n",
    "x = 10\n",
    "y =20 \n",
    "print(f\"my first number is {x} my second number is {y} and max number is {max(x,y)}\")\n"
   ]
  },
  {
   "cell_type": "code",
   "execution_count": 90,
   "id": "21077228",
   "metadata": {},
   "outputs": [
    {
     "name": "stdout",
     "output_type": "stream",
     "text": [
      "max is 20\n"
     ]
    }
   ],
   "source": [
    "x = 10\n",
    "y = 20\n",
    "if x > y:\n",
    "    print(f'max is {x}')\n",
    "else:\n",
    "    print(f'max is {y}')"
   ]
  },
  {
   "cell_type": "code",
   "execution_count": 92,
   "id": "2dffa7fb",
   "metadata": {},
   "outputs": [
    {
     "name": "stdout",
     "output_type": "stream",
     "text": [
      "max between x and y is 20\n"
     ]
    }
   ],
   "source": [
    "x = 10\n",
    "y = 20\n",
    "grt = max(x,y)\n",
    "print(f\"max between x and y is {grt}\")"
   ]
  },
  {
   "cell_type": "markdown",
   "id": "80f66483",
   "metadata": {},
   "source": [
    "# Dictionary\n",
    "\n",
    "* key:value pair\n",
    "\n",
    "* dictionary: dict is a collection which holds data in pair(that pair will be in key and value) if i want to connect one piece of info with other piece of info so we always we use dictionary\n",
    "\n",
    "* dict = {} --> empty dictionary\n",
    "\n",
    "* syntax of dictionary : \n",
    "\n",
    "* dict={ key1:value1,key2:value2, key3:value3,....keyn:valuen}\n",
    "\n",
    "\n",
    "# Properties\n",
    "\n",
    "* indexing\n",
    "\n",
    "* Ordered\n",
    "\n",
    "* multiple and duplicate values but no dublicate key\n",
    "\n",
    "* mutable\n",
    "   \n",
    "* No concating in dict\n",
    "\n",
    "\n",
    "# Function for the dict\n",
    "\n",
    "* len()\n",
    "\n",
    "* max()\n",
    "\n",
    "* min()\n",
    "\n",
    "* any()\n",
    "\n",
    "* all()\n",
    "\n",
    "* sorted()\n",
    "\n",
    "* dict()\n",
    "\n",
    "\n",
    "# Methods in dictionary\n",
    "\n",
    "* clear()\n",
    "\n",
    "* copy()\n",
    "\n",
    "* setdefault()\n",
    "\n",
    "* get()\n",
    "\n",
    "* keys()\n",
    "\n",
    "* values()\n",
    "\n",
    "* items()\n",
    "\n",
    "* updated() \n",
    "\n",
    "* pop()\n",
    "\n",
    "* popitem()"
   ]
  },
  {
   "cell_type": "code",
   "execution_count": 93,
   "id": "f3946cee",
   "metadata": {},
   "outputs": [
    {
     "data": {
      "text/plain": [
       "{1: 'apple', 2: 'banana', 3: 'mango'}"
      ]
     },
     "execution_count": 93,
     "metadata": {},
     "output_type": "execute_result"
    }
   ],
   "source": [
    "#Dict of int key : \n",
    "mydict={1:\"apple\",2:\"banana\",3:\"mango\"}\n",
    "mydict"
   ]
  },
  {
   "cell_type": "code",
   "execution_count": 102,
   "id": "32ae7f4b",
   "metadata": {},
   "outputs": [
    {
     "name": "stdout",
     "output_type": "stream",
     "text": [
      "{'sem1': ['c', 'c++'], 'sem2': ['java', 'java script'], 'sem3': ['python', 'machine learning']} \n",
      "\n",
      "['c', 'c++']\n"
     ]
    }
   ],
   "source": [
    "mydict={\"sem1\":[\"c\",\"c++\"],\"sem2\":[\"java\",\"java script\"],\"sem3\":[\"python\",\"machine learning\"]}\n",
    "\n",
    "print(mydict, \"\\n\")\n",
    "\n",
    "print(mydict[\"sem1\"])"
   ]
  },
  {
   "cell_type": "code",
   "execution_count": 103,
   "id": "25ae4c8e",
   "metadata": {},
   "outputs": [
    {
     "name": "stdout",
     "output_type": "stream",
     "text": [
      "My key is:  sem1\n",
      "My key is:  sem2\n",
      "My key is:  sem3\n"
     ]
    }
   ],
   "source": [
    "for i in mydict:\n",
    "    print(\"My key is: \", i)"
   ]
  },
  {
   "cell_type": "code",
   "execution_count": 104,
   "id": "f7f75418",
   "metadata": {},
   "outputs": [
    {
     "name": "stdout",
     "output_type": "stream",
     "text": [
      "My key is: sem1\n",
      "My key is: sem2\n",
      "My key is: sem3\n"
     ]
    }
   ],
   "source": [
    "for i in mydict.keys():\n",
    "    print(\"My key is:\",i)"
   ]
  },
  {
   "cell_type": "code",
   "execution_count": 105,
   "id": "fa2cc920",
   "metadata": {},
   "outputs": [
    {
     "name": "stdout",
     "output_type": "stream",
     "text": [
      "My key is: ['c', 'c++']\n",
      "My key is: ['java', 'java script']\n",
      "My key is: ['python', 'machine learning']\n"
     ]
    }
   ],
   "source": [
    "for i in mydict.values():\n",
    "    print(\"My key is:\",i)"
   ]
  },
  {
   "cell_type": "code",
   "execution_count": 106,
   "id": "28bcc6a8",
   "metadata": {},
   "outputs": [
    {
     "name": "stdout",
     "output_type": "stream",
     "text": [
      "My key is: ('sem1', ['c', 'c++'])\n",
      "My key is: ('sem2', ['java', 'java script'])\n",
      "My key is: ('sem3', ['python', 'machine learning'])\n"
     ]
    }
   ],
   "source": [
    "for i in mydict.items():\n",
    "    print(\"My key is:\",i)"
   ]
  },
  {
   "cell_type": "code",
   "execution_count": 107,
   "id": "a75820f9",
   "metadata": {},
   "outputs": [
    {
     "data": {
      "text/plain": [
       "{1: 'apple', 2: 'banana', 3: 'mango', 4: 'litchi'}"
      ]
     },
     "execution_count": 107,
     "metadata": {},
     "output_type": "execute_result"
    }
   ],
   "source": [
    "mydict={1:\"apple\",2:\"banana\",3:\"mango\"}\n",
    "mydict[4] = \"litchi\"\n",
    "mydict"
   ]
  },
  {
   "cell_type": "code",
   "execution_count": 108,
   "id": "494643b1",
   "metadata": {},
   "outputs": [
    {
     "data": {
      "text/plain": [
       "{1: 'apple', 2: 'banana', 3: 'mango', 4: 'litchi', 5: 'carot'}"
      ]
     },
     "execution_count": 108,
     "metadata": {},
     "output_type": "execute_result"
    }
   ],
   "source": [
    "# if key is not available then it will create new pair if it is avaialble it will be overwrite\n",
    "mydict = {1: 'apple', 2: 'banana', 3: 'mango', 4: 'litchi'}\n",
    "mydict.update({5:\"carot\"})\n",
    "mydict"
   ]
  },
  {
   "cell_type": "code",
   "execution_count": 109,
   "id": "1d0c0434",
   "metadata": {},
   "outputs": [
    {
     "data": {
      "text/plain": [
       "{1: 'apple', 2: 'banana', 3: 'mango', 4: 'litchi'}"
      ]
     },
     "execution_count": 109,
     "metadata": {},
     "output_type": "execute_result"
    }
   ],
   "source": [
    "mydict = {1: 'apple', 2: 'banana', 3: 'mango', 4: 'litchi'}\n",
    "mydict1 = mydict.copy()\n",
    "mydict1"
   ]
  },
  {
   "cell_type": "code",
   "execution_count": 111,
   "id": "57437053",
   "metadata": {},
   "outputs": [
    {
     "data": {
      "text/plain": [
       "'apple'"
      ]
     },
     "execution_count": 111,
     "metadata": {},
     "output_type": "execute_result"
    }
   ],
   "source": [
    "mydict.pop(1)"
   ]
  },
  {
   "cell_type": "code",
   "execution_count": 112,
   "id": "33429338",
   "metadata": {},
   "outputs": [
    {
     "data": {
      "text/plain": [
       "{2: 'banana', 3: 'mango', 4: 'litchi'}"
      ]
     },
     "execution_count": 112,
     "metadata": {},
     "output_type": "execute_result"
    }
   ],
   "source": [
    "mydict"
   ]
  },
  {
   "cell_type": "code",
   "execution_count": 113,
   "id": "8facd2ce",
   "metadata": {},
   "outputs": [
    {
     "data": {
      "text/plain": [
       "(4, 'litchi')"
      ]
     },
     "execution_count": 113,
     "metadata": {},
     "output_type": "execute_result"
    }
   ],
   "source": [
    "mydict = {1: 'apple', 2: 'banana', 3: 'mango', 4: 'litchi'}\n",
    "\n",
    "mydict.popitem()"
   ]
  },
  {
   "cell_type": "code",
   "execution_count": 114,
   "id": "5e4279c4",
   "metadata": {},
   "outputs": [],
   "source": [
    "#deep copy and shallow copy\n",
    "\n",
    "cars = {\"Maruti\":\"Ciaz\",\"Hyundai\":\"Verna\",\"Honda\":\"Amaze\"}\n",
    "value=cars.setdefault(\"Hyundai\")"
   ]
  },
  {
   "cell_type": "code",
   "execution_count": 115,
   "id": "bdf50b16",
   "metadata": {},
   "outputs": [
    {
     "data": {
      "text/plain": [
       "'Verna'"
      ]
     },
     "execution_count": 115,
     "metadata": {},
     "output_type": "execute_result"
    }
   ],
   "source": [
    "value"
   ]
  },
  {
   "cell_type": "code",
   "execution_count": 116,
   "id": "f38875d0",
   "metadata": {},
   "outputs": [],
   "source": [
    "value=cars.setdefault(\"Renault\")"
   ]
  },
  {
   "cell_type": "code",
   "execution_count": 117,
   "id": "7cb6595a",
   "metadata": {},
   "outputs": [],
   "source": [
    "value"
   ]
  },
  {
   "cell_type": "code",
   "execution_count": 118,
   "id": "aa65cc95",
   "metadata": {},
   "outputs": [
    {
     "data": {
      "text/plain": [
       "{'Maruti': 'Ciaz', 'Hyundai': 'Verna', 'Honda': 'Amaze', 'Renault': None}"
      ]
     },
     "execution_count": 118,
     "metadata": {},
     "output_type": "execute_result"
    }
   ],
   "source": [
    "cars"
   ]
  },
  {
   "cell_type": "code",
   "execution_count": 119,
   "id": "4f9a74ea",
   "metadata": {},
   "outputs": [],
   "source": [
    "value=cars.setdefault(\"Renault\",\"duster\")"
   ]
  },
  {
   "cell_type": "code",
   "execution_count": 120,
   "id": "d79077b9",
   "metadata": {},
   "outputs": [],
   "source": [
    "cars[\"Renault\"]=\"duster\""
   ]
  },
  {
   "cell_type": "code",
   "execution_count": 121,
   "id": "150acc8b",
   "metadata": {},
   "outputs": [
    {
     "data": {
      "text/plain": [
       "{'Maruti': 'Ciaz', 'Hyundai': 'Verna', 'Honda': 'Amaze', 'Renault': 'duster'}"
      ]
     },
     "execution_count": 121,
     "metadata": {},
     "output_type": "execute_result"
    }
   ],
   "source": [
    "cars"
   ]
  }
 ],
 "metadata": {
  "kernelspec": {
   "display_name": "Python 3 (ipykernel)",
   "language": "python",
   "name": "python3"
  },
  "language_info": {
   "codemirror_mode": {
    "name": "ipython",
    "version": 3
   },
   "file_extension": ".py",
   "mimetype": "text/x-python",
   "name": "python",
   "nbconvert_exporter": "python",
   "pygments_lexer": "ipython3",
   "version": "3.9.12"
  }
 },
 "nbformat": 4,
 "nbformat_minor": 5
}
